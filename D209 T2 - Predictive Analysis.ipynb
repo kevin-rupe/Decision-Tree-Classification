{
 "cells": [
  {
   "cell_type": "code",
   "execution_count": 1,
   "id": "006b11d2",
   "metadata": {},
   "outputs": [
    {
     "name": "stdout",
     "output_type": "stream",
     "text": [
      "The Python   version from my environment is  3.10.9\n",
      "The Platform version from my environment is  macOS-15.3.1\n",
      "The Platform release from my environment is  Darwin Kernel Version 24.3.0: Thu Jan  2 20:23:36 PST 2025; root:xnu-11215.81.4~3/RELEASE_ARM64_T8112\n"
     ]
    }
   ],
   "source": [
    "#Display Python version\n",
    "from platform import python_version      # view python version information\n",
    "import platform                          # view operating platform information\n",
    "\n",
    "print(\"The Python   version from my environment is \", python_version())\n",
    "print(\"The Platform version from my environment is \", platform.platform(terse=True))\n",
    "print(\"The Platform release from my environment is \", platform.version())"
   ]
  },
  {
   "cell_type": "code",
   "execution_count": 2,
   "id": "7f461fad",
   "metadata": {
    "scrolled": true
   },
   "outputs": [],
   "source": [
    "#import important libraries\n",
    "import pandas as pd           # for dataframe and data manipulation\n",
    "from pandas import DataFrame\n",
    "import numpy as np            # provides array objects and calculations\n",
    "\n",
    "#import scikit-learn libraries\n",
    "from sklearn.model_selection import train_test_split\n",
    "from sklearn.model_selection import GridSearchCV\n",
    "from sklearn.tree import DecisionTreeClassifier\n",
    "from sklearn.feature_selection import SelectKBest, f_classif\n",
    "from sklearn.ensemble import BaggingClassifier, AdaBoostClassifier, GradientBoostingClassifier\n",
    "from sklearn.metrics import mean_squared_error as MSE, r2_score as R2, mean_absolute_error as MAE, accuracy_score\n",
    "from sklearn.metrics import roc_curve, roc_auc_score\n",
    "\n",
    "#import visualization libraries\n",
    "import matplotlib.pyplot as plt\n",
    "%matplotlib inline\n",
    "import seaborn as sns\n",
    "\n",
    "#ignore warnings\n",
    "import warnings\n",
    "warnings.filterwarnings('ignore')"
   ]
  },
  {
   "cell_type": "code",
   "execution_count": 3,
   "id": "a99cc883",
   "metadata": {},
   "outputs": [],
   "source": [
    "#import CSV file\n",
    "import pandas as pd\n",
    "med_df = pd.read_csv(\"medical_clean.csv\")"
   ]
  },
  {
   "cell_type": "code",
   "execution_count": 4,
   "id": "573bc52a",
   "metadata": {},
   "outputs": [
    {
     "data": {
      "text/html": [
       "<div>\n",
       "<style scoped>\n",
       "    .dataframe tbody tr th:only-of-type {\n",
       "        vertical-align: middle;\n",
       "    }\n",
       "\n",
       "    .dataframe tbody tr th {\n",
       "        vertical-align: top;\n",
       "    }\n",
       "\n",
       "    .dataframe thead th {\n",
       "        text-align: right;\n",
       "    }\n",
       "</style>\n",
       "<table border=\"1\" class=\"dataframe\">\n",
       "  <thead>\n",
       "    <tr style=\"text-align: right;\">\n",
       "      <th></th>\n",
       "      <th>CaseOrder</th>\n",
       "      <th>Customer_id</th>\n",
       "      <th>Interaction</th>\n",
       "      <th>UID</th>\n",
       "      <th>City</th>\n",
       "      <th>State</th>\n",
       "      <th>County</th>\n",
       "      <th>Zip</th>\n",
       "      <th>Lat</th>\n",
       "      <th>Lng</th>\n",
       "      <th>...</th>\n",
       "      <th>TotalCharge</th>\n",
       "      <th>Additional_charges</th>\n",
       "      <th>Item1</th>\n",
       "      <th>Item2</th>\n",
       "      <th>Item3</th>\n",
       "      <th>Item4</th>\n",
       "      <th>Item5</th>\n",
       "      <th>Item6</th>\n",
       "      <th>Item7</th>\n",
       "      <th>Item8</th>\n",
       "    </tr>\n",
       "  </thead>\n",
       "  <tbody>\n",
       "    <tr>\n",
       "      <th>0</th>\n",
       "      <td>1</td>\n",
       "      <td>C412403</td>\n",
       "      <td>8cd49b13-f45a-4b47-a2bd-173ffa932c2f</td>\n",
       "      <td>3a83ddb66e2ae73798bdf1d705dc0932</td>\n",
       "      <td>Eva</td>\n",
       "      <td>AL</td>\n",
       "      <td>Morgan</td>\n",
       "      <td>35621</td>\n",
       "      <td>34.34960</td>\n",
       "      <td>-86.72508</td>\n",
       "      <td>...</td>\n",
       "      <td>3726.702860</td>\n",
       "      <td>17939.403420</td>\n",
       "      <td>3</td>\n",
       "      <td>3</td>\n",
       "      <td>2</td>\n",
       "      <td>2</td>\n",
       "      <td>4</td>\n",
       "      <td>3</td>\n",
       "      <td>3</td>\n",
       "      <td>4</td>\n",
       "    </tr>\n",
       "    <tr>\n",
       "      <th>1</th>\n",
       "      <td>2</td>\n",
       "      <td>Z919181</td>\n",
       "      <td>d2450b70-0337-4406-bdbb-bc1037f1734c</td>\n",
       "      <td>176354c5eef714957d486009feabf195</td>\n",
       "      <td>Marianna</td>\n",
       "      <td>FL</td>\n",
       "      <td>Jackson</td>\n",
       "      <td>32446</td>\n",
       "      <td>30.84513</td>\n",
       "      <td>-85.22907</td>\n",
       "      <td>...</td>\n",
       "      <td>4193.190458</td>\n",
       "      <td>17612.998120</td>\n",
       "      <td>3</td>\n",
       "      <td>4</td>\n",
       "      <td>3</td>\n",
       "      <td>4</td>\n",
       "      <td>4</td>\n",
       "      <td>4</td>\n",
       "      <td>3</td>\n",
       "      <td>3</td>\n",
       "    </tr>\n",
       "    <tr>\n",
       "      <th>2</th>\n",
       "      <td>3</td>\n",
       "      <td>F995323</td>\n",
       "      <td>a2057123-abf5-4a2c-abad-8ffe33512562</td>\n",
       "      <td>e19a0fa00aeda885b8a436757e889bc9</td>\n",
       "      <td>Sioux Falls</td>\n",
       "      <td>SD</td>\n",
       "      <td>Minnehaha</td>\n",
       "      <td>57110</td>\n",
       "      <td>43.54321</td>\n",
       "      <td>-96.63772</td>\n",
       "      <td>...</td>\n",
       "      <td>2434.234222</td>\n",
       "      <td>17505.192460</td>\n",
       "      <td>2</td>\n",
       "      <td>4</td>\n",
       "      <td>4</td>\n",
       "      <td>4</td>\n",
       "      <td>3</td>\n",
       "      <td>4</td>\n",
       "      <td>3</td>\n",
       "      <td>3</td>\n",
       "    </tr>\n",
       "    <tr>\n",
       "      <th>3</th>\n",
       "      <td>4</td>\n",
       "      <td>A879973</td>\n",
       "      <td>1dec528d-eb34-4079-adce-0d7a40e82205</td>\n",
       "      <td>cd17d7b6d152cb6f23957346d11c3f07</td>\n",
       "      <td>New Richland</td>\n",
       "      <td>MN</td>\n",
       "      <td>Waseca</td>\n",
       "      <td>56072</td>\n",
       "      <td>43.89744</td>\n",
       "      <td>-93.51479</td>\n",
       "      <td>...</td>\n",
       "      <td>2127.830423</td>\n",
       "      <td>12993.437350</td>\n",
       "      <td>3</td>\n",
       "      <td>5</td>\n",
       "      <td>5</td>\n",
       "      <td>3</td>\n",
       "      <td>4</td>\n",
       "      <td>5</td>\n",
       "      <td>5</td>\n",
       "      <td>5</td>\n",
       "    </tr>\n",
       "    <tr>\n",
       "      <th>4</th>\n",
       "      <td>5</td>\n",
       "      <td>C544523</td>\n",
       "      <td>5885f56b-d6da-43a3-8760-83583af94266</td>\n",
       "      <td>d2f0425877b10ed6bb381f3e2579424a</td>\n",
       "      <td>West Point</td>\n",
       "      <td>VA</td>\n",
       "      <td>King William</td>\n",
       "      <td>23181</td>\n",
       "      <td>37.59894</td>\n",
       "      <td>-76.88958</td>\n",
       "      <td>...</td>\n",
       "      <td>2113.073274</td>\n",
       "      <td>3716.525786</td>\n",
       "      <td>2</td>\n",
       "      <td>1</td>\n",
       "      <td>3</td>\n",
       "      <td>3</td>\n",
       "      <td>5</td>\n",
       "      <td>3</td>\n",
       "      <td>4</td>\n",
       "      <td>3</td>\n",
       "    </tr>\n",
       "  </tbody>\n",
       "</table>\n",
       "<p>5 rows × 50 columns</p>\n",
       "</div>"
      ],
      "text/plain": [
       "   CaseOrder Customer_id                           Interaction  \\\n",
       "0          1     C412403  8cd49b13-f45a-4b47-a2bd-173ffa932c2f   \n",
       "1          2     Z919181  d2450b70-0337-4406-bdbb-bc1037f1734c   \n",
       "2          3     F995323  a2057123-abf5-4a2c-abad-8ffe33512562   \n",
       "3          4     A879973  1dec528d-eb34-4079-adce-0d7a40e82205   \n",
       "4          5     C544523  5885f56b-d6da-43a3-8760-83583af94266   \n",
       "\n",
       "                                UID          City State        County    Zip  \\\n",
       "0  3a83ddb66e2ae73798bdf1d705dc0932           Eva    AL        Morgan  35621   \n",
       "1  176354c5eef714957d486009feabf195      Marianna    FL       Jackson  32446   \n",
       "2  e19a0fa00aeda885b8a436757e889bc9   Sioux Falls    SD     Minnehaha  57110   \n",
       "3  cd17d7b6d152cb6f23957346d11c3f07  New Richland    MN        Waseca  56072   \n",
       "4  d2f0425877b10ed6bb381f3e2579424a    West Point    VA  King William  23181   \n",
       "\n",
       "        Lat       Lng  ...  TotalCharge Additional_charges Item1 Item2  Item3  \\\n",
       "0  34.34960 -86.72508  ...  3726.702860       17939.403420     3     3      2   \n",
       "1  30.84513 -85.22907  ...  4193.190458       17612.998120     3     4      3   \n",
       "2  43.54321 -96.63772  ...  2434.234222       17505.192460     2     4      4   \n",
       "3  43.89744 -93.51479  ...  2127.830423       12993.437350     3     5      5   \n",
       "4  37.59894 -76.88958  ...  2113.073274        3716.525786     2     1      3   \n",
       "\n",
       "   Item4  Item5 Item6 Item7 Item8  \n",
       "0      2      4     3     3     4  \n",
       "1      4      4     4     3     3  \n",
       "2      4      3     4     3     3  \n",
       "3      3      4     5     5     5  \n",
       "4      3      5     3     4     3  \n",
       "\n",
       "[5 rows x 50 columns]"
      ]
     },
     "execution_count": 4,
     "metadata": {},
     "output_type": "execute_result"
    }
   ],
   "source": [
    "#view dataset\n",
    "med_df.head()"
   ]
  },
  {
   "cell_type": "code",
   "execution_count": 5,
   "id": "5baf921c",
   "metadata": {},
   "outputs": [],
   "source": [
    "## drop unused columns\n",
    "med_df = med_df.drop(['CaseOrder', 'Customer_id', 'Interaction', 'UID', 'City', 'State',\n",
    "                      'County', 'Zip', 'Lat', 'Lng', 'Population', 'Area', 'TimeZone', \n",
    "                      'Job', 'Children', 'Age', 'Income', 'Marital', 'Gender', 'VitD_levels', \n",
    "                      'Doc_visits', 'Full_meals_eaten', 'vitD_supp', 'Soft_drink', \n",
    "                      'TotalCharge', 'Additional_charges', 'Item1', 'Item2', 'Item3', \n",
    "                      'Item4','Item5', 'Item6', 'Item7', 'Item8'], axis=1)"
   ]
  },
  {
   "cell_type": "code",
   "execution_count": 6,
   "id": "5a0473fe",
   "metadata": {},
   "outputs": [
    {
     "name": "stdout",
     "output_type": "stream",
     "text": [
      "<class 'pandas.core.frame.DataFrame'>\n",
      "RangeIndex: 10000 entries, 0 to 9999\n",
      "Data columns (total 16 columns):\n",
      " #   Column              Non-Null Count  Dtype  \n",
      "---  ------              --------------  -----  \n",
      " 0   ReAdmis             10000 non-null  object \n",
      " 1   Initial_admin       10000 non-null  object \n",
      " 2   HighBlood           10000 non-null  object \n",
      " 3   Stroke              10000 non-null  object \n",
      " 4   Complication_risk   10000 non-null  object \n",
      " 5   Overweight          10000 non-null  object \n",
      " 6   Arthritis           10000 non-null  object \n",
      " 7   Diabetes            10000 non-null  object \n",
      " 8   Hyperlipidemia      10000 non-null  object \n",
      " 9   BackPain            10000 non-null  object \n",
      " 10  Anxiety             10000 non-null  object \n",
      " 11  Allergic_rhinitis   10000 non-null  object \n",
      " 12  Reflux_esophagitis  10000 non-null  object \n",
      " 13  Asthma              10000 non-null  object \n",
      " 14  Services            10000 non-null  object \n",
      " 15  Initial_days        10000 non-null  float64\n",
      "dtypes: float64(1), object(15)\n",
      "memory usage: 1.2+ MB\n"
     ]
    }
   ],
   "source": [
    "#view datatypes\n",
    "med_df.info()"
   ]
  },
  {
   "cell_type": "code",
   "execution_count": 7,
   "id": "ce1d777c",
   "metadata": {},
   "outputs": [
    {
     "name": "stdout",
     "output_type": "stream",
     "text": [
      "False    10000\n",
      "dtype: int64\n",
      "\n",
      "Variables        Missing Values\n",
      "---------        --------------\n",
      "ReAdmis               0\n",
      "Initial_admin         0\n",
      "HighBlood             0\n",
      "Stroke                0\n",
      "Complication_risk     0\n",
      "Overweight            0\n",
      "Arthritis             0\n",
      "Diabetes              0\n",
      "Hyperlipidemia        0\n",
      "BackPain              0\n",
      "Anxiety               0\n",
      "Allergic_rhinitis     0\n",
      "Reflux_esophagitis    0\n",
      "Asthma                0\n",
      "Services              0\n",
      "Initial_days          0\n",
      "dtype: int64\n"
     ]
    }
   ],
   "source": [
    "#check for duplicated/missing values\n",
    "print(med_df.duplicated().value_counts())\n",
    "print(\"\")\n",
    "print('Variables        Missing Values')\n",
    "print('---------        --------------')\n",
    "print(med_df.isna().sum())"
   ]
  },
  {
   "cell_type": "code",
   "execution_count": 8,
   "id": "31c02190",
   "metadata": {
    "scrolled": false
   },
   "outputs": [
    {
     "data": {
      "text/plain": [
       "[Text(0.5, 1.0, 'Initial_days')]"
      ]
     },
     "execution_count": 8,
     "metadata": {},
     "output_type": "execute_result"
    },
    {
     "data": {
      "image/png": "[encoded data removed]",
      "text/plain": [
       "<Figure size 640x480 with 1 Axes>"
      ]
     },
     "metadata": {},
     "output_type": "display_data"
    }
   ],
   "source": [
    "#check for outliers\n",
    "import seaborn as sns\n",
    "sns.boxplot(med_df.Initial_days, orient='h').set(title='Initial_days')"
   ]
  },
  {
   "cell_type": "code",
   "execution_count": 9,
   "id": "508007cd",
   "metadata": {},
   "outputs": [],
   "source": [
    "#One-Hot Encoding for (Yes/No) variables\n",
    "prefix_list1 = ['ReAdmis','HighBlood', 'Stroke', 'Arthritis', \n",
    "               'Diabetes', 'Anxiety', 'Asthma',\n",
    "               'Overweight', 'Hyperlipidemia', 'BackPain',\n",
    "               'Allergic_rhinitis', 'Reflux_esophagitis']\n",
    "\n",
    "prefix_dict = {'Yes': 1, 'No': 0}\n",
    "\n",
    "for col in prefix_list1:\n",
    "    med_df[col] = med_df[col].replace(prefix_dict)"
   ]
  },
  {
   "cell_type": "code",
   "execution_count": 10,
   "id": "1538bead",
   "metadata": {},
   "outputs": [],
   "source": [
    "#Get dummies for variables\n",
    "ia = pd.get_dummies(med_df['Initial_admin'], prefix='IA', prefix_sep='_', drop_first=False)\n",
    "cr = pd.get_dummies(med_df['Complication_risk'], prefix='CompRisk', prefix_sep='_', drop_first=False)\n",
    "svc = pd.get_dummies(med_df['Services'], prefix='Svc', prefix_sep='_', drop_first=False)\n",
    "med_df = pd.concat([med_df, ia, cr, svc], axis=1)\n",
    "med_df = med_df.drop(['Initial_admin', 'Complication_risk', 'Services'], axis=1)"
   ]
  },
  {
   "cell_type": "code",
   "execution_count": 11,
   "id": "e97233e5",
   "metadata": {
    "scrolled": false
   },
   "outputs": [
    {
     "data": {
      "text/plain": [
       "Index(['ReAdmis', 'HighBlood', 'Stroke', 'Overweight', 'Arthritis', 'Diabetes',\n",
       "       'Hyperlipidemia', 'BackPain', 'Anxiety', 'Allergic_rhinitis',\n",
       "       'Reflux_esophagitis', 'Asthma', 'Initial_days', 'IA_Elective Admission',\n",
       "       'IA_Emergency Admission', 'IA_Observation Admission', 'CompRisk_High',\n",
       "       'CompRisk_Low', 'CompRisk_Medium', 'Svc_Blood Work', 'Svc_CT Scan',\n",
       "       'Svc_Intravenous', 'Svc_MRI'],\n",
       "      dtype='object')"
      ]
     },
     "execution_count": 11,
     "metadata": {},
     "output_type": "execute_result"
    }
   ],
   "source": [
    "med_df.columns"
   ]
  },
  {
   "cell_type": "code",
   "execution_count": 12,
   "id": "7bbe1f03",
   "metadata": {},
   "outputs": [],
   "source": [
    "#rename columns\n",
    "med_df.rename(columns = {'IA_Observation Admission': 'IA_Observation'}, inplace=True)\n",
    "med_df.rename(columns = {'IA_Emergency Admission': 'IA_Emergency'}, inplace=True)\n",
    "med_df.rename(columns = {'IA_Elective Admission': 'IA_Elective'}, inplace=True)\n",
    "med_df.rename(columns = {'Svc_Intravenous': 'Svc_IV'}, inplace=True)\n",
    "med_df.rename(columns = {'Svc_CT Scan': 'Svc_CT'}, inplace=True)\n",
    "med_df.rename(columns = {'Svc_Blood Work': 'Svc_BW'}, inplace=True)"
   ]
  },
  {
   "cell_type": "code",
   "execution_count": 13,
   "id": "c87ad6db",
   "metadata": {
    "scrolled": false
   },
   "outputs": [
    {
     "name": "stdout",
     "output_type": "stream",
     "text": [
      "18            Svc_CT\n",
      "19            Svc_IV\n",
      "12      IA_Emergency\n",
      "10            Asthma\n",
      "6           BackPain\n",
      "13    IA_Observation\n",
      "11       IA_Elective\n",
      "20           Svc_MRI\n",
      "2         Overweight\n",
      "3          Arthritis\n",
      "Name: Feature, dtype: object\n"
     ]
    }
   ],
   "source": [
    "X = med_df.drop(['ReAdmis', 'Initial_days'],1)\n",
    "y = med_df['ReAdmis']\n",
    "\n",
    "from sklearn.feature_selection import SelectKBest, f_classif\n",
    "skbest = SelectKBest(score_func=f_classif, k='all')\n",
    "\n",
    "X_new = skbest.fit_transform(X,y)\n",
    "\n",
    "p_values = pd.DataFrame({'Feature': X.columns,\n",
    "                        'p_value': skbest.pvalues_}).sort_values('p_value')\n",
    "#p_values[p_values['p_value']<0.5]\n",
    "features_to_keep = p_values['Feature'][p_values['p_value']<0.5]\n",
    "print(features_to_keep)"
   ]
  },
  {
   "cell_type": "code",
   "execution_count": 14,
   "id": "e204bd9a",
   "metadata": {},
   "outputs": [
    {
     "data": {
      "text/plain": [
       "Index(['ReAdmis', 'HighBlood', 'Stroke', 'Overweight', 'Arthritis', 'Diabetes',\n",
       "       'Hyperlipidemia', 'BackPain', 'Anxiety', 'Allergic_rhinitis',\n",
       "       'Reflux_esophagitis', 'Asthma', 'Initial_days', 'IA_Elective',\n",
       "       'IA_Emergency', 'IA_Observation', 'CompRisk_High', 'CompRisk_Low',\n",
       "       'CompRisk_Medium', 'Svc_BW', 'Svc_CT', 'Svc_IV', 'Svc_MRI'],\n",
       "      dtype='object')"
      ]
     },
     "execution_count": 14,
     "metadata": {},
     "output_type": "execute_result"
    }
   ],
   "source": [
    "med_df.columns"
   ]
  },
  {
   "cell_type": "code",
   "execution_count": 15,
   "id": "3655ec22",
   "metadata": {},
   "outputs": [],
   "source": [
    "med_df = med_df.drop(['HighBlood', 'Stroke', 'Diabetes',\n",
    "       'Hyperlipidemia', 'Anxiety', 'Allergic_rhinitis',\n",
    "       'Reflux_esophagitis', 'CompRisk_High', 'CompRisk_Low',\n",
    "       'CompRisk_Medium', 'Svc_BW'],axis=1)"
   ]
  },
  {
   "cell_type": "code",
   "execution_count": 17,
   "id": "0f5df34f",
   "metadata": {},
   "outputs": [],
   "source": [
    "#export CSV file\n",
    "med_df.to_csv(\"medical_clean_d209_t2.csv\")"
   ]
  },
  {
   "cell_type": "code",
   "execution_count": 18,
   "id": "771c21f7",
   "metadata": {},
   "outputs": [],
   "source": [
    "#split the data into train/test sets\n",
    "from sklearn.model_selection import train_test_split\n",
    "\n",
    "X = med_df.drop(['ReAdmis'], axis=1)\n",
    "y = med_df['ReAdmis']\n",
    "\n",
    "X_train, X_test, y_train, y_test = train_test_split(X, y, test_size=0.2, random_state=24, stratify=y)\n",
    "\n",
    "X_train.to_csv(\"X_train_d209_t2.csv\")\n",
    "y_train.to_csv(\"y_train_d209_t2.csv\")\n",
    "X_test.to_csv(\"X_test_d209_t2.csv\")\n",
    "y_test.to_csv(\"y_test_d209_t2.csv\")\n",
    "\n",
    "#frames_train = [X_train, y_train]\n",
    "#med_train = pd.concat(frames_train, axis=1)\n",
    "#frames_test = [X_test, y_test]\n",
    "#med_test = pd.concat(frames_test, axis=1)\n",
    "\n",
    "#med_train.to_csv(\"C:/Users/e0145653/Documents/WGU/D209 - Data Mining/med_train_d209_t1.csv\")\n",
    "#med_test.to_csv(\"C:/Users/e0145653/Documents/WGU/D209 - Data Mining/med_test_d209_t1.csv\")"
   ]
  },
  {
   "cell_type": "code",
   "execution_count": 19,
   "id": "19de9b9c",
   "metadata": {},
   "outputs": [
    {
     "name": "stdout",
     "output_type": "stream",
     "text": [
      "Decision Tree Classifier : 0.9695\n",
      "Random Forest Classifier : 0.9815\n"
     ]
    }
   ],
   "source": [
    "# Voting Classifier\n",
    "from sklearn.tree import DecisionTreeClassifier\n",
    "from sklearn.ensemble import RandomForestClassifier\n",
    "from sklearn.ensemble import VotingClassifier\n",
    "\n",
    "dt = DecisionTreeClassifier(random_state=24)\n",
    "rf = RandomForestClassifier(random_state=24)\n",
    "\n",
    "classifiers = [('Decision Tree Classifier', dt),\n",
    "               ('Random Forest Classifier', rf)]\n",
    "\n",
    "for clf_name, clf in classifiers:\n",
    "    #fit clf to training set\n",
    "    clf.fit(X_train, y_train)\n",
    "    \n",
    "    #predict labels of test set\n",
    "    y_pred = clf.predict(X_test)\n",
    "    \n",
    "    #evaluate accuracy of clf on test set\n",
    "    print('{:s} : {:.4f}'.format(clf_name, accuracy_score(y_test, y_pred)))\n",
    "    "
   ]
  },
  {
   "cell_type": "code",
   "execution_count": 20,
   "id": "751296bc",
   "metadata": {},
   "outputs": [
    {
     "name": "stdout",
     "output_type": "stream",
     "text": [
      "The initial model accuracy is   96.95 %\n",
      "The initial model MSE is        0.0305\n",
      "The initial model RMSE is       0.1746\n",
      "The initial model R-Squared is  0.8687\n",
      "The initial model MAE is        0.0305\n"
     ]
    }
   ],
   "source": [
    "#Initial DecisionTree classification\n",
    "dt = DecisionTreeClassifier(random_state=24)\n",
    "dt.fit(X_train, y_train)\n",
    "y_pred = dt.predict(X_test)\n",
    "\n",
    "#Initial model accuracy \n",
    "initial_accuracy = accuracy_score(y_test, y_pred)\n",
    "print(\"The initial model accuracy is  \", np.round((initial_accuracy * 100),2), \"%\")\n",
    "\n",
    "#Initial MSE, RMSE, R^2, MAE\n",
    "mse_dt = MSE(y_test, y_pred)\n",
    "rmse_dt = mse_dt**(1/2)\n",
    "r2_dt = R2(y_test, y_pred)\n",
    "mae_dt = MAE(y_test, y_pred)\n",
    "print(\"The initial model MSE is       \", np.round((mse_dt),4))\n",
    "print(\"The initial model RMSE is      \", np.round((rmse_dt),4))\n",
    "print(\"The initial model R-Squared is \", np.round((r2_dt),4))\n",
    "print(\"The initial model MAE is       \", np.round((mae_dt),4))"
   ]
  },
  {
   "cell_type": "code",
   "execution_count": 21,
   "id": "0a474770",
   "metadata": {},
   "outputs": [
    {
     "data": {
      "image/png": "[encoded data removed]",
      "text/plain": [
       "<Figure size 640x480 with 1 Axes>"
      ]
     },
     "metadata": {},
     "output_type": "display_data"
    }
   ],
   "source": [
    "# Feature Importance\n",
    "\n",
    "#create a series\n",
    "importances_dt = pd.Series(dt.feature_importances_, index=X_train.columns)\n",
    "\n",
    "#sort the values\n",
    "sorted_importances_dt = importances_dt.sort_values()\n",
    "\n",
    "#plot the sorted values\n",
    "sorted_importances_dt.plot(kind='barh',\n",
    "                          color='lightblue')\n",
    "plt.show()"
   ]
  },
  {
   "cell_type": "code",
   "execution_count": 22,
   "id": "b4ae8da8",
   "metadata": {
    "scrolled": true
   },
   "outputs": [
    {
     "data": {
      "text/plain": [
       "{'ccp_alpha': 0.0,\n",
       " 'class_weight': None,\n",
       " 'criterion': 'gini',\n",
       " 'max_depth': None,\n",
       " 'max_features': None,\n",
       " 'max_leaf_nodes': None,\n",
       " 'min_impurity_decrease': 0.0,\n",
       " 'min_samples_leaf': 1,\n",
       " 'min_samples_split': 2,\n",
       " 'min_weight_fraction_leaf': 0.0,\n",
       " 'random_state': 24,\n",
       " 'splitter': 'best'}"
      ]
     },
     "execution_count": 22,
     "metadata": {},
     "output_type": "execute_result"
    }
   ],
   "source": [
    "dt.get_params()"
   ]
  },
  {
   "cell_type": "code",
   "execution_count": 23,
   "id": "3c13138e",
   "metadata": {},
   "outputs": [
    {
     "name": "stdout",
     "output_type": "stream",
     "text": [
      "Best Parameters: {'criterion': 'gini', 'max_depth': 2, 'min_samples_leaf': 0.1, 'min_samples_split': 2}\n",
      "Best Score: 0.9785\n"
     ]
    }
   ],
   "source": [
    "#Grid Search to find best parameters\n",
    "from sklearn.model_selection import GridSearchCV\n",
    "import numpy as np\n",
    "\n",
    "params_dt = {\n",
    "    'max_depth': np.arange(2,10),\n",
    "    'criterion': ('gini', 'entropy', 'log_loss'),\n",
    "    'min_samples_leaf': np.arange(0.1, 0.24, 0.01),\n",
    "    'min_samples_split': np.arange(2,32,2)\n",
    "}\n",
    "\n",
    "dt = DecisionTreeClassifier(random_state=24)\n",
    "grid_dt = GridSearchCV(estimator=dt, \n",
    "                       param_grid=params_dt, \n",
    "                       cv=10,\n",
    "                       scoring='accuracy',\n",
    "                       n_jobs=-1)\n",
    "grid_dt.fit(X_train, y_train)\n",
    "\n",
    "print('Best Parameters: {}'.format(grid_dt.best_params_))\n",
    "print('Best Score: {:.4f}'.format(grid_dt.best_score_))"
   ]
  },
  {
   "cell_type": "code",
   "execution_count": 24,
   "id": "f6c88b88",
   "metadata": {},
   "outputs": [
    {
     "name": "stdout",
     "output_type": "stream",
     "text": [
      "Training Accuracy:0.9789\n",
      "Testing Accuracy :0.9760\n",
      "Test set accuracy of best params model: 0.976\n"
     ]
    }
   ],
   "source": [
    "training_score = grid_dt.score(X_train, y_train)\n",
    "testing_score = grid_dt.score(X_test, y_test)\n",
    "\n",
    "print(\"Training Accuracy:{:.4f}\".format(training_score))\n",
    "print(\"Testing Accuracy :{:.4f}\".format(testing_score))\n",
    "\n",
    "best_params_model = grid_dt.best_estimator_\n",
    "test_acc = best_params_model.score(X_test, y_test)\n",
    "print(\"Test set accuracy of best params model: {:.3f}\".format(test_acc))"
   ]
  },
  {
   "cell_type": "code",
   "execution_count": 25,
   "id": "162d308a",
   "metadata": {},
   "outputs": [
    {
     "name": "stdout",
     "output_type": "stream",
     "text": [
      "The best params model accuracy is   97.6 %\n",
      "The best params model MSE is        0.024\n",
      "The best params model RMSE is       0.1549\n",
      "The best params model R-Squared is  0.8967\n",
      "The best params model MAE is        0.024\n"
     ]
    }
   ],
   "source": [
    "## Decision Tree model with best parameters\n",
    "\n",
    "#dtc model\n",
    "dt = DecisionTreeClassifier(max_depth=2,\n",
    "                            criterion='gini',\n",
    "                            min_samples_leaf=0.1,\n",
    "                            min_samples_split=2,\n",
    "                            random_state=24)\n",
    "dt.fit(X_train, y_train)\n",
    "y_pred = dt.predict(X_test)\n",
    "\n",
    "#accuracy_score\n",
    "best_accuracy = accuracy_score(y_test, y_pred)\n",
    "print(\"The best params model accuracy is  \", np.round((best_accuracy * 100),2), \"%\")\n",
    "\n",
    "#MSE, RMSE, R^2, MAE scores\n",
    "mse_dt = MSE(y_test, y_pred)\n",
    "rmse_dt = mse_dt**(1/2)\n",
    "r2_dt = R2(y_test, y_pred)\n",
    "mae_dt = MAE(y_test, y_pred)\n",
    "print(\"The best params model MSE is       \", np.round((mse_dt),4))\n",
    "print(\"The best params model RMSE is      \", np.round((rmse_dt),4))\n",
    "print(\"The best params model R-Squared is \", np.round((r2_dt),4))\n",
    "print(\"The best params model MAE is       \", np.round((mae_dt),4))"
   ]
  },
  {
   "cell_type": "code",
   "execution_count": 26,
   "id": "83d3ab24",
   "metadata": {},
   "outputs": [
    {
     "data": {
      "image/png": "[encoded data removed]",
      "text/plain": [
       "<Figure size 640x480 with 1 Axes>"
      ]
     },
     "metadata": {},
     "output_type": "display_data"
    }
   ],
   "source": [
    "# Feature Importance\n",
    "\n",
    "#create a series\n",
    "importances_dt = pd.Series(dt.feature_importances_, index=X_train.columns)\n",
    "\n",
    "#sort the values\n",
    "sorted_importances_dt = importances_dt.sort_values()\n",
    "\n",
    "#plot the sorted values\n",
    "sorted_importances_dt.plot(kind='barh',\n",
    "                          color='lightblue')\n",
    "plt.show()"
   ]
  },
  {
   "cell_type": "code",
   "execution_count": 27,
   "id": "b4384df4",
   "metadata": {
    "scrolled": true
   },
   "outputs": [
    {
     "name": "stdout",
     "output_type": "stream",
     "text": [
      "Training Accuracy:0.9789\n",
      "Testing Accuracy :0.9760\n",
      "\n",
      "MSE of Training Data:0.0211\n",
      "MSE of Testing Data: 0.0240\n",
      "\n",
      "Root MSE of Training Data:0.1453\n",
      "Root MSE of Testing Data: 0.1549\n",
      "\n",
      "R-Squared of Training Data:0.9091\n",
      "R-Squared of Testing Data: 0.8967\n"
     ]
    }
   ],
   "source": [
    "training_accuracy = dt.score(X_train, y_train)\n",
    "testing_accuracy = dt.score(X_test, y_test)\n",
    "\n",
    "y_pred = dt.predict(X_test)\n",
    "y_train_pred = dt.predict(X_train)\n",
    "\n",
    "training_mse = MSE(y_train, y_train_pred)\n",
    "testing_mse = MSE(y_test, y_pred)\n",
    "\n",
    "training_rmse = training_mse**(1/2)\n",
    "testing_rmse = testing_mse**(1/2)\n",
    "\n",
    "training_rsquared = R2(y_train, y_train_pred)\n",
    "testing_rsquared = R2(y_test, y_pred)\n",
    "\n",
    "print(\"Training Accuracy:{:.4f}\".format(training_accuracy))\n",
    "print(\"Testing Accuracy :{:.4f}\".format(testing_accuracy))\n",
    "print(\"\")\n",
    "print(\"MSE of Training Data:{:.4f}\".format(training_mse))\n",
    "print(\"MSE of Testing Data: {:.4f}\".format(testing_mse))\n",
    "print(\"\")\n",
    "print(\"Root MSE of Training Data:{:.4f}\".format(training_rmse))\n",
    "print(\"Root MSE of Testing Data: {:.4f}\".format(testing_rmse))\n",
    "print(\"\")\n",
    "print(\"R-Squared of Training Data:{:.4f}\".format(training_rsquared))\n",
    "print(\"R-Squared of Testing Data: {:.4f}\".format(testing_rsquared))"
   ]
  },
  {
   "cell_type": "code",
   "execution_count": null,
   "id": "a593618e",
   "metadata": {},
   "outputs": [],
   "source": [
    "## Decision Tree model with AdaBoosting\n",
    "\n",
    "#import packages\n",
    "#from sklearn.ensemble import AdaBoostClassifier\n",
    "\n",
    "#instatiate the AdaBoost Classifier\n",
    "#adb_clf = AdaBoostClassifier(base_estimator=dt,\n",
    "#                             n_estimators=100,\n",
    "#                             random_state=24)\n",
    "\n",
    "#fit to the training set\n",
    "#adb_clf.fit(X_train, y_train)\n",
    "\n",
    "#predict the test set\n",
    "#y_pred = adb_clf.predict(X_test)\n",
    "\n",
    "#evaluate accuracy\n",
    "#adb_clf_accuracy = accuracy_score(y_test, y_pred)\n",
    "#print('AdaBoosting accuracy: {:.3f}'.format(adb_clf_accuracy))"
   ]
  },
  {
   "cell_type": "code",
   "execution_count": null,
   "id": "ff1bbcd3",
   "metadata": {},
   "outputs": [],
   "source": [
    "## Decision Tree model with GradientBoosting\n",
    "\n",
    "#import packages\n",
    "#from sklearn.ensemble import GradientBoostingClassifier\n",
    "\n",
    "#instatiate the AdaBoost Classifier\n",
    "#gbt = GradientBoostingClassifier(n_estimators=100,\n",
    "#                                 random_state=24)\n",
    "\n",
    "#fit to the training set\n",
    "#gbt.fit(X_train, y_train)\n",
    "\n",
    "#predict the test set probabilities of positive class\n",
    "#y_pred = gbt.predict(X_test)\n",
    "\n",
    "#evaluate roc_auc_score\n",
    "#gbt_accuracy = accuracy_score(y_test, y_pred)\n",
    "#print('Gradient Boosting Accuracy: {:.3f}'.format(gbt_accuracy))"
   ]
  },
  {
   "cell_type": "code",
   "execution_count": null,
   "id": "95bb1c29",
   "metadata": {},
   "outputs": [],
   "source": []
  }
 ],
 "metadata": {
  "kernelspec": {
   "display_name": "Python 3 (ipykernel)",
   "language": "python",
   "name": "python3"
  },
  "language_info": {
   "codemirror_mode": {
    "name": "ipython",
    "version": 3
   },
   "file_extension": ".py",
   "mimetype": "text/x-python",
   "name": "python",
   "nbconvert_exporter": "python",
   "pygments_lexer": "ipython3",
   "version": "3.10.9"
  }
 },
 "nbformat": 4,
 "nbformat_minor": 5
}
